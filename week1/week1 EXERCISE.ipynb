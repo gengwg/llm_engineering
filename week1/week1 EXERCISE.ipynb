{
 "cells": [
  {
   "cell_type": "markdown",
   "id": "fe12c203-e6a6-452c-a655-afb8a03a4ff5",
   "metadata": {},
   "source": [
    "# End of week 1 exercise\n",
    "\n",
    "To demonstrate your familiarity with OpenAI API, and also Ollama, build a tool that takes a technical question,  \n",
    "and responds with an explanation. This is a tool that you will be able to use yourself during the course!"
   ]
  },
  {
   "cell_type": "code",
   "execution_count": null,
   "id": "c1070317-3ed9-4659-abe3-828943230e03",
   "metadata": {},
   "outputs": [],
   "source": [
    "# imports\n",
    "import os\n",
    "from dotenv import load_dotenv\n",
    "from openai import OpenAI\n",
    "from IPython.display import Markdown, display, update_display"
   ]
  },
  {
   "cell_type": "code",
   "execution_count": null,
   "id": "4a456906-915a-4bfd-bb9d-57e505c5093f",
   "metadata": {},
   "outputs": [],
   "source": [
    "# constants\n",
    "\n",
    "MODEL_GPT = 'gpt-4o-mini'\n",
    "MODEL_LLAMA = 'llama3.2'"
   ]
  },
  {
   "cell_type": "code",
   "execution_count": null,
   "id": "a8d7923c-5f28-4c30-8556-342d7c8497c1",
   "metadata": {},
   "outputs": [],
   "source": [
    "# set up environment\n",
    "\n",
    "# Load environment variables in a file called .env\n",
    "\n",
    "load_dotenv(override=True)\n",
    "api_key = os.getenv('OPENAI_API_KEY')\n",
    "\n",
    "# Check the key\n",
    "\n",
    "if not api_key:\n",
    "    print(\"No API key was found - please head over to the troubleshooting notebook in this folder to identify & fix!\")\n",
    "elif not api_key.startswith(\"sk-proj-\"):\n",
    "    print(\"An API key was found, but it doesn't start sk-proj-; please check you're using the right key - see troubleshooting notebook\")\n",
    "elif api_key.strip() != api_key:\n",
    "    print(\"An API key was found, but it looks like it might have space or tab characters at the start or end - please remove them - see troubleshooting notebook\")\n",
    "else:\n",
    "    print(\"API key found and looks good so far!\")\n"
   ]
  },
  {
   "cell_type": "code",
   "execution_count": null,
   "id": "3f0d0137-52b0-47a8-81a8-11a90a010798",
   "metadata": {},
   "outputs": [],
   "source": [
    "# here is the question; type over this to ask something new\n",
    "\n",
    "question = \"\"\"\n",
    "Please explain what this code does and why:\n",
    "yield from {book.get(\"author\") for book in books if book.get(\"author\")}\n",
    "\"\"\""
   ]
  },
  {
   "cell_type": "code",
   "execution_count": null,
   "id": "60ce7000-a4a5-4cce-a261-e75ef45063b4",
   "metadata": {},
   "outputs": [],
   "source": [
    "# Get gpt-4o-mini to answer, with streaming\n",
    "openai = OpenAI()\n",
    "stream = openai.chat.completions.create(\n",
    "    model=\"gpt-4o-mini\", \n",
    "    messages=[{\"role\":\"user\", \"content\":question}],\n",
    "    stream=True\n",
    "    )\n",
    "\n",
    "# print(response.choices[0].message.content)\n",
    "# display(Markdown(response.choices[0].message.content))\n",
    "\n",
    "response = \"\"\n",
    "display_handle = display(Markdown(\"\"), display_id=True)\n",
    "for chunk in stream:\n",
    "    response += chunk.choices[0].delta.content or ''\n",
    "    response = response.replace(\"```\",\"\").replace(\"markdown\", \"\")\n",
    "    update_display(Markdown(response), display_id=display_handle.display_id)\n",
    "\n",
    "\n"
   ]
  },
  {
   "cell_type": "code",
   "execution_count": 28,
   "id": "8f7c8ea8-4082-4ad0-8751-3301adcf6538",
   "metadata": {},
   "outputs": [
    {
     "data": {
      "text/markdown": [
       "<think>\n",
       "Okay, let's try to understand what this code does. The code is: yield from {book.get(\"author\") for book in books if book.get(\"author\")}. Hmm, in Python, when you use yield from, you're basically saying that you're going to generate elements from a generator expression that's inside a yield from. So first, I need to break this down into parts.\n",
       "\n",
       "The generator expression here is {book.get(\"author\") for book in books if book.get(\"author\")}. Wait, the 'yield from' part is a way to pass a generator to another generator, but in this case, the entire expression is being used as a generator. So the code is effectively creating a generator that iterates through each book in the 'books' list, but only those where book.get(\"author\") is present.\n",
       "\n",
       "Wait, but the generator is defined in another way. If there's a generator inside the yield from, it probably has a loop or something. Let me think. So the code is generating a generator that first loops through books, and for each book, it checks if the author exists, then gets the author. But if there's a generator inside that loop, then when you yield from that, you're generating elements from the same loop.\n",
       "\n",
       "But how exactly is this working? Let's take an example. Suppose 'books' is a list of dictionaries. Then, for each book in the 'books' list, the code checks if the author exists, which is book.get(\"author\"). If that exists, then it gets the author and yields that. But if there's a generator inside the loop, like having a way to generate authors, then when you yield from that, you're using the same loop structure. Maybe the problem is that in the loop, there's a way to generate the values. But the code as written seems to create a generator that iterates through the books, using the 'author' from each, and yields those values. But how is that possible with 'yield from'? Wait, in Python, the yield from is for when you're writing a generator, and you have a generator inside. So for example, if I have a generator that says 'for book in my_books, if book.get('author')':\n",
       "\n",
       "Wait, the code is written as yield from { ... }, so the entire { ... } is the generator that is being called. That means that the code is essentially generating elements from the generator that's inside the loop. For example, if the generator is { author for book in books if book.get(\"author\") }, then when you reach yield from, you're passing this entire generator to another generator. But how does that work? Let me think through an example.\n",
       "\n",
       "Suppose 'books' is a list of dictionaries. So the code creates a generator that first loops through 'books', and for each, if the author is present, it gets the author and yields it. So the code is generating the list of authors where the author exists. So the result is a list of authors. Now, why is the code written like this?\n",
       "\n",
       "Wait, but how is this possible with 'yield from'? Because in Python, the yield from is used when you have a generator inside another one. For example, if I have a generator that takes elements from a list, then yield from that list would generate elements. So in the code, after creating the generator expression, which is { author for book in books if ... }, when you use yield from that expression, the generator is passed to yield, which would generate its elements. But in this case, the entire expression is being used as the generator. So maybe this is a way to yield the values from the generator.\n",
       "\n",
       "But how does this work with the syntax? Let me think. The standard way to use yield from is when you're inside a function. For example, if you have a function that yields elements from a generator, and you want to pass that generator to another function, then you can write:\n",
       "\n",
       "def my_func():\n",
       "    generate = yield from {book.get('author') for book in books if ...}\n",
       "    return generate\n",
       "\n",
       "But in this case, the code is written as yield from { ... }, so that would generate elements from the generator. So the code is essentially creating a new generator that iterates through the books, checking if their author exists, and then yielding their authors. So the code is generating a list of authors from the 'books' list, but the loop is inside the generator.\n",
       "\n",
       "But why is this code doing this? Well, the code is trying to get the authors of books that have an author. However, in Python, the 'yield from' is a way to pass a generator to another generator. But in this case, the code is not using any function, it's just taking the generator expression and yield from it. So if the generator is in the loop, then when you yield from, you are passing it as a generator. So the code is generating elements from the same loop structure.\n",
       "\n",
       "But why does this code work? Let's say 'books' is a list where each book has an author. Then, for each book, we check if it has an author, which is present, and yield that author. But if there's a problem where a book doesn't have an author, or in the list, maybe there are None values? Well, in the code, the authors are being retrieved through book.get(\"author\"), which returns None if the key is missing. But the code uses the 'if' condition to check where the author exists. So the result is an iterable that yields those authors.\n",
       "\n",
       "But why is the code using yield from { ... } instead of simply using the list comprehension? Because in Python, when you have a generator, you can yield elements. But maybe the original code is written in a way that expects the generator to be generated. So perhaps this is part of a larger context where the generator is supposed to generate these authors.\n",
       "\n",
       "But why is the code written like this? Maybe it's trying to generate a list of authors. For example, if 'books' is a list of books with authors, the code is generating a list of those authors. But then, when you yield from that generator, you're passing it as a new generator, which is already generated. So the code is creating a generator that yields the authors, and that's the result.\n",
       "\n",
       "But I'm getting a bit stuck here. Let me try a concrete example. Suppose 'books' is a list like [Book1, Book2], and each has an 'author' key. Then the code creates a generator that for each book in books, if the author exists, get the author and yield. So the generator would be (Book1's author, Book2's author). Then, when you iterate through this generator, you get both authors, and that's the result. But how is this generated?\n",
       "\n",
       "Wait, the original code is written as yield from { ... }, which in Python would be equivalent to looping through the generator. So in Python, if you have something like:\n",
       "\n",
       "def my_generator():\n",
       "    yield from {book.get('author') for book in books if ...}\n",
       "\n",
       "then, this would be a generator that yields each author. So the code is creating a generator that iterates over the books with an author, and yields their authors. Therefore, the entire code is trying to get a list of authors from the 'books' list, considering the conditions.\n",
       "\n",
       "But why is the code written like that? Probably because the original problem is to generate a list of authors from the 'books' list, but only those entries where 'author' exists. So the code is effectively generating a list that contains those authors. Therefore, the code is generating a list of authors, and the 'yield from' is just the way to generate it. The reason is straightforward: the code is supposed to list the authors of books that have an author, using the same loop structure as the list comprehension.\n",
       "\n",
       "So, the code is creating a generator that first loops through each book in the 'books' list, checks if the author exists, and then yields the author. This way, the code is effectively generating a list of authors that satisfy the condition.\n",
       "\n",
       "I think that's the main point here. The code does exactly that, using a generator to yield the authors, and the 'yield from' is used as part of the generator structure. So the code is generating the desired list of authors from the given list.\n",
       "</think>\n",
       "\n",
       "The code provided is:\n",
       "\n",
       "python\n",
       "yield from {book.get(\"author\") for book in books if book.get(\"author\")}\n",
       "\n",
       "\n",
       "### Explanation:\n",
       "This code uses `yield from` to generate elements from an iterated loop. Here's a breakdown:\n",
       "\n",
       "1. **`yield from {book.get(\"author\") for book in books if book.get(\"author\")}`**:\n",
       "   - The `book.get(\"author\")` is inside the generator expression, which means the entire list comprehension is being treated as a separate generator to yield elements.\n",
       "   - This effectively creates a new generator that first loops through each book in the list, checks if it has an \"author\" field (using `book.get(\"author\")`), and yields the author if present.\n",
       "\n",
       "2. **Purpose**:\n",
       "   - The generator yields the authors of books where the \"author\" field exists.\n",
       "   - It iterates through the books, filters those with an \"author\", and yields their authors.\n",
       "\n",
       "### Why It Works:\n",
       "- The `yield from` syntax allows the generated list to appear as a separate generator.\n",
       "- So, the entire code is generating a list of authors from the provided `books` list, filtering based on the presence of the \"author\" key.\n",
       "\n",
       "### Result:\n",
       "The code creates a generator that iterates through the \"author\" field existence condition and yields the corresponding authors. This is a simple yet effective approach for filtering and generating a list from a list of dictionaries where the \"author\" field is present."
      ],
      "text/plain": [
       "<IPython.core.display.Markdown object>"
      ]
     },
     "metadata": {},
     "output_type": "display_data"
    }
   ],
   "source": [
    "# Get Llama 3.2 to answer (qwen3:0.6b)\n",
    "# Run the ollama server first in another terminal window:\n",
    "# (llms) gengwg@myhost:~$ ollama run qwen3:0.6b\n",
    "\n",
    "ollama_via_openai = OpenAI(base_url='http://localhost:11434/v1', api_key='ollama')\n",
    "\n",
    "stream = ollama_via_openai.chat.completions.create(\n",
    "    model=\"qwen3:0.6b\", \n",
    "    messages=[{\"role\":\"user\", \"content\":question}],\n",
    "    stream=True\n",
    "    )\n",
    "\n",
    "response = \"\"\n",
    "display_handle = display(Markdown(\"\"), display_id=True)\n",
    "for chunk in stream:\n",
    "    response += chunk.choices[0].delta.content or ''\n",
    "    response = response.replace(\"```\",\"\").replace(\"markdown\", \"\")\n",
    "    update_display(Markdown(response), display_id=display_handle.display_id)\n",
    "\n"
   ]
  },
  {
   "cell_type": "code",
   "execution_count": 27,
   "id": "cb099291",
   "metadata": {},
   "outputs": [
    {
     "name": "stdout",
     "output_type": "stream",
     "text": [
      "George Orwell\n",
      "J.K. Rowling\n"
     ]
    }
   ],
   "source": [
    "books = [\n",
    "    {\"author\": \"George Orwell\", \"title\": \"1984\"},\n",
    "    {\"author\": \"George Orwell\", \"title\": \"Animal Farm\"},\n",
    "    {\"author\": \"J.K. Rowling\", \"title\": \"Harry Potter\"},\n",
    "    {\"title\": \"Anonymous Book\"},  # No author\n",
    "    {\"author\": \"\", \"title\": \"Empty Author Book\"}  # Empty author\n",
    "]\n",
    "\n",
    "unique_authors = {book.get(\"author\") for book in books if book.get(\"author\")}\n",
    "for author in unique_authors:\n",
    "    print(author)"
   ]
  }
 ],
 "metadata": {
  "kernelspec": {
   "display_name": "llms",
   "language": "python",
   "name": "python3"
  },
  "language_info": {
   "codemirror_mode": {
    "name": "ipython",
    "version": 3
   },
   "file_extension": ".py",
   "mimetype": "text/x-python",
   "name": "python",
   "nbconvert_exporter": "python",
   "pygments_lexer": "ipython3",
   "version": "3.11.13"
  }
 },
 "nbformat": 4,
 "nbformat_minor": 5
}
